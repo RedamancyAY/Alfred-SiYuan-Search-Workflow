{
 "cells": [
  {
   "cell_type": "code",
   "execution_count": 3,
   "metadata": {},
   "outputs": [],
   "source": [
    "import re\n",
    "import json\n",
    "import sys\n",
    "import requests\n",
    "import os"
   ]
  },
  {
   "cell_type": "code",
   "execution_count": 26,
   "metadata": {},
   "outputs": [],
   "source": [
    "def get_http_server_port(workspace_dir: str) -> int:\n",
    "    \"\"\"Extracts the HTTP server port from a log file in the specified workspace directory.\n",
    "\n",
    "\n",
    "    In siyuan, the \"path/to/workspace/temp/siyuan.log\" file contains the HTTP server port number. This function reads the log file and extracts the port number.\n",
    "\n",
    "    The extracted port number is returned as an integer. If no port is found, the function returns -1.\n",
    "\n",
    "    Args:\n",
    "        workspace_dir (str): The path to the workspace directory where the log file is located.\n",
    "\n",
    "    Returns:\n",
    "        int: The port number of the HTTP server if found, otherwise -1.\n",
    "\n",
    "    Raises:\n",
    "        FileNotFoundError: If the log file does not exist in the specified directory.\n",
    "        IOError: If there is an issue reading the log file.\n",
    "\n",
    "    Example:\n",
    "        The log file contains the following line with the HTTP server port number:\n",
    "        ```\n",
    "        I 2025/01/26 17:37:08 serve.go:189: kernel [pid=31181] http server [127.0.0.1:56004] is booting\n",
    "        ...\n",
    "        I 2025/01/25 22:21:47 serve.go:189: kernel [pid=88564] http server [0.0.0.0:52916] is booting\n",
    "        ```\n",
    "        >>> workspace_dir = \"/path/to/workspace\"\n",
    "        >>> port = get_http_server_port(workspace_dir)\n",
    "        >>> print(port)\n",
    "        52916\n",
    "    \"\"\"\n",
    "    log_file = os.path.join(workspace_dir, \"temp/siyuan.log\")\n",
    "    port = -1\n",
    "    # print(log_file)\n",
    "    with open(log_file, \"r\") as f:\n",
    "        lines = f.readlines()\n",
    "        for line in lines:\n",
    "            if \"http server\" in line:\n",
    "                match = re.findall(r'http server \\[.*?:(\\d+)\\]', line)\n",
    "                if match:\n",
    "                    port = match[-1]\n",
    "    return port"
   ]
  },
  {
   "cell_type": "code",
   "execution_count": 27,
   "metadata": {},
   "outputs": [],
   "source": [
    "def fullTextSearchBlock(q:str, port:int):\n",
    "    searchJson = {}\n",
    "    searchJson[\"query\"] = q\n",
    "    searchJson[\"method\"] = 0\n",
    "    type = {}\n",
    "    type[\"blockquote\"] = True\n",
    "    type[\"codeBlock\"] = True\n",
    "    type[\"document\"] = True\n",
    "    type[\"embedBlock\"] = True\n",
    "    type[\"heading\"] = True\n",
    "    type[\"htmlBlock\"] = True\n",
    "    type[\"list\"] = True\n",
    "    type[\"listItem\"] = True\n",
    "    type[\"mathBlock\"] = True\n",
    "    type[\"paragraph\"] = True\n",
    "    type[\"superBlock\"] = True\n",
    "    type[\"table\"] = True\n",
    "    searchJson[\"type\"] = type\n",
    "    searchJson[\"path\"] = []\n",
    "    searchJson[\"groupBy\"] = 0\n",
    "    searchJson[\"orderBy\"] = 0\n",
    "    \n",
    "    data = json.dumps(searchJson)\n",
    "    url = \"http://127.0.0.1:\"+ str(port)+\"/api/search/fullTextSearchBlock\"\n",
    "    res = requests.post(url, data)\n",
    "    resJson = json.loads(res.text)\n",
    "    return resJson[\"data\"][\"blocks\"]"
   ]
  },
  {
   "cell_type": "code",
   "execution_count": 28,
   "metadata": {},
   "outputs": [],
   "source": [
    "##### Test\n",
    "# workspace_dir = \"xxxxx/Siyuan\"\n",
    "# port = get_http_server_port(workspace_dir)\n",
    "# blocks = fullTextSearchBlock(\"alfred\", port=port)"
   ]
  },
  {
   "cell_type": "code",
   "execution_count": 7,
   "metadata": {},
   "outputs": [],
   "source": [
    "ICON_File = \"./icon_file.png\"\n",
    "ICON_Block = \"./icon_block.png\""
   ]
  },
  {
   "cell_type": "markdown",
   "metadata": {},
   "source": [
    "Note, block types in siyuan search results: \n",
    "```bash\n",
    "    NodeDocument\n",
    "    NodeParagraph\n",
    "    NodeHTMLBlock\n",
    "    NodeCodeBlock\n",
    "    NodeAttributeView\n",
    "```\n",
    "We set the icon for `NodeDocument` to `ICON_File`, and others to `ICON_Block`."
   ]
  },
  {
   "cell_type": "code",
   "execution_count": 8,
   "metadata": {},
   "outputs": [],
   "source": [
    "def parseRes(resBlocks):\n",
    "    itemList = []\n",
    "    uid = 1\n",
    "    for block in resBlocks:\n",
    "        item = {}\n",
    "        item[\"uid\"] = uid\n",
    "        item[\"title\"] = block[\"content\"].replace(\"<mark>\", \"\").replace(\"</mark>\", \"\")[:50]\n",
    "        item[\"subtitle\"] = block[\"workspace\"] + \": \" + block[\"hPath\"]\n",
    "        item[\"arg\"] = \"siyuan://blocks/\" + block[\"id\"]\n",
    "        item[\"icon\"] = {\"path\" : ICON_File if block['type'] == \"NodeDocument\" else ICON_Block}\n",
    "        itemList.append(item)\n",
    "        uid += 1\n",
    "    items = {}\n",
    "    items[\"items\"] = itemList\n",
    "    items_json = json.dumps(items)\n",
    "    sys.stdout.write(items_json)"
   ]
  },
  {
   "cell_type": "code",
   "execution_count": 9,
   "metadata": {},
   "outputs": [],
   "source": [
    "env = dict(os.environ)\n",
    "workspace_dirs = [env[x] for x in env.keys() if x.startswith(\"SIYUAN_WORKSPACE_\")]"
   ]
  },
  {
   "cell_type": "code",
   "execution_count": 15,
   "id": "0e41334f",
   "metadata": {},
   "outputs": [
    {
     "name": "stdout",
     "output_type": "stream",
     "text": [
      "{\"items\": []}"
     ]
    }
   ],
   "source": [
    "def main():\n",
    "    alfredQuery = str(sys.argv[1])\n",
    "    total_blocks = []\n",
    "    for workspace_dir in workspace_dirs:\n",
    "        port = get_http_server_port(workspace_dir)\n",
    "        if port != -1:\n",
    "            try:\n",
    "                blocks = fullTextSearchBlock(alfredQuery, port=port)\n",
    "                for block in blocks:\n",
    "                    block[\"workspace\"] = workspace_dir.split(\"/\")[-1]\n",
    "                total_blocks.extend(blocks)\n",
    "            except Exception as e:\n",
    "                print(e, file=sys.stderr)\n",
    "    parseRes(total_blocks)\n",
    "\n",
    "if __name__ == '__main__':\n",
    "    main()"
   ]
  },
  {
   "cell_type": "code",
   "execution_count": null,
   "metadata": {},
   "outputs": [
    {
     "name": "stdout",
     "output_type": "stream",
     "text": [
      "/Users/ay/SoftwareData/siyuan-noteplan/temp/siyuan.log\n",
      "/Users/ay/SoftwareData/siyuan-micc/temp/siyuan.log\n",
      "/Users/ay/SoftwareData/Siyuan/temp/siyuan.log\n"
     ]
    }
   ],
   "source": [
    "# workspace_dirs = [\"/Users/ay/SoftwareData/siyuan-noteplan\",\n",
    "#                   \"/Users/ay/SoftwareData/siyuan-micc\",\n",
    "#                   \"/Users/ay/SoftwareData/Siyuan\"]\n",
    "# total_blocks = []\n",
    "# for workspace_dir in workspace_dirs:\n",
    "#     port = get_http_server_port(workspace_dir)\n",
    "#     if port != -1:\n",
    "#         try:\n",
    "#             blocks = fullTextSearchBlock(\"time\", port=port)\n",
    "#             total_blocks.extend(blocks)\n",
    "#         except Exception as e:\n",
    "#             print(e)"
   ]
  }
 ],
 "metadata": {
  "jupytext": {
   "formats": "ipynb,py"
  },
  "kernelspec": {
   "display_name": "base",
   "language": "python",
   "name": "python3"
  },
  "language_info": {
   "codemirror_mode": {
    "name": "ipython",
    "version": 3
   },
   "file_extension": ".py",
   "mimetype": "text/x-python",
   "name": "python",
   "nbconvert_exporter": "python",
   "pygments_lexer": "ipython3",
   "version": "3.12.7"
  }
 },
 "nbformat": 4,
 "nbformat_minor": 2
}
